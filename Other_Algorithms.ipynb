{
 "cells": [
  {
   "cell_type": "markdown",
   "id": "f3f319f1-5f84-4280-ad47-8ab6edfb8e7f",
   "metadata": {},
   "source": [
    "## Import Necessary libraries"
   ]
  },
  {
   "cell_type": "code",
   "execution_count": 1,
   "id": "f4d6261a-0eee-42bb-81e8-2a899dfbe0a9",
   "metadata": {},
   "outputs": [],
   "source": [
    "import pandas as pd\n",
    "import numpy as np"
   ]
  },
  {
   "cell_type": "markdown",
   "id": "547eeaa0-2dd8-4174-973c-e6143f0a5138",
   "metadata": {},
   "source": [
    "## Read synthetic dataset generated previously"
   ]
  },
  {
   "cell_type": "code",
   "execution_count": 2,
   "id": "d4287b0e-95f1-44f3-84ce-b5984d0f9654",
   "metadata": {},
   "outputs": [
    {
     "data": {
      "text/html": [
       "<div>\n",
       "<style scoped>\n",
       "    .dataframe tbody tr th:only-of-type {\n",
       "        vertical-align: middle;\n",
       "    }\n",
       "\n",
       "    .dataframe tbody tr th {\n",
       "        vertical-align: top;\n",
       "    }\n",
       "\n",
       "    .dataframe thead th {\n",
       "        text-align: right;\n",
       "    }\n",
       "</style>\n",
       "<table border=\"1\" class=\"dataframe\">\n",
       "  <thead>\n",
       "    <tr style=\"text-align: right;\">\n",
       "      <th></th>\n",
       "      <th>Temperature</th>\n",
       "      <th>Pressure</th>\n",
       "      <th>Current Density</th>\n",
       "      <th>Bubble Coverage</th>\n",
       "      <th>Reversible Voltage</th>\n",
       "      <th>Activation Overpotential</th>\n",
       "      <th>Ohmic Potential</th>\n",
       "      <th>Cell Voltage</th>\n",
       "      <th>Hydrogen Evolution Rate</th>\n",
       "      <th>Oxygen Evolution Rate</th>\n",
       "    </tr>\n",
       "  </thead>\n",
       "  <tbody>\n",
       "    <tr>\n",
       "      <th>0</th>\n",
       "      <td>373</td>\n",
       "      <td>8</td>\n",
       "      <td>0.383838</td>\n",
       "      <td>-0.308736</td>\n",
       "      <td>1.216060</td>\n",
       "      <td>0.349959</td>\n",
       "      <td>0.210651</td>\n",
       "      <td>1.776671</td>\n",
       "      <td>31.825746</td>\n",
       "      <td>15.912873</td>\n",
       "    </tr>\n",
       "    <tr>\n",
       "      <th>1</th>\n",
       "      <td>353</td>\n",
       "      <td>4</td>\n",
       "      <td>0.409091</td>\n",
       "      <td>0.140836</td>\n",
       "      <td>1.215879</td>\n",
       "      <td>0.423878</td>\n",
       "      <td>0.303825</td>\n",
       "      <td>1.943582</td>\n",
       "      <td>33.919545</td>\n",
       "      <td>16.959772</td>\n",
       "    </tr>\n",
       "    <tr>\n",
       "      <th>2</th>\n",
       "      <td>373</td>\n",
       "      <td>10</td>\n",
       "      <td>0.419192</td>\n",
       "      <td>-0.311398</td>\n",
       "      <td>1.221870</td>\n",
       "      <td>0.356171</td>\n",
       "      <td>0.229950</td>\n",
       "      <td>1.807991</td>\n",
       "      <td>34.757064</td>\n",
       "      <td>17.378532</td>\n",
       "    </tr>\n",
       "    <tr>\n",
       "      <th>3</th>\n",
       "      <td>323</td>\n",
       "      <td>6</td>\n",
       "      <td>0.015152</td>\n",
       "      <td>0.138477</td>\n",
       "      <td>1.250195</td>\n",
       "      <td>0.258607</td>\n",
       "      <td>0.016361</td>\n",
       "      <td>1.525162</td>\n",
       "      <td>1.256279</td>\n",
       "      <td>0.628140</td>\n",
       "    </tr>\n",
       "    <tr>\n",
       "      <th>4</th>\n",
       "      <td>313</td>\n",
       "      <td>4</td>\n",
       "      <td>0.237374</td>\n",
       "      <td>0.294024</td>\n",
       "      <td>1.249876</td>\n",
       "      <td>0.489298</td>\n",
       "      <td>0.315468</td>\n",
       "      <td>2.054642</td>\n",
       "      <td>19.681711</td>\n",
       "      <td>9.840856</td>\n",
       "    </tr>\n",
       "    <tr>\n",
       "      <th>...</th>\n",
       "      <td>...</td>\n",
       "      <td>...</td>\n",
       "      <td>...</td>\n",
       "      <td>...</td>\n",
       "      <td>...</td>\n",
       "      <td>...</td>\n",
       "      <td>...</td>\n",
       "      <td>...</td>\n",
       "      <td>...</td>\n",
       "      <td>...</td>\n",
       "    </tr>\n",
       "    <tr>\n",
       "      <th>3955</th>\n",
       "      <td>323</td>\n",
       "      <td>8</td>\n",
       "      <td>0.373737</td>\n",
       "      <td>0.361113</td>\n",
       "      <td>1.256266</td>\n",
       "      <td>0.503837</td>\n",
       "      <td>0.438406</td>\n",
       "      <td>2.198509</td>\n",
       "      <td>30.988226</td>\n",
       "      <td>15.494113</td>\n",
       "    </tr>\n",
       "    <tr>\n",
       "      <th>3956</th>\n",
       "      <td>323</td>\n",
       "      <td>4</td>\n",
       "      <td>0.398990</td>\n",
       "      <td>0.371775</td>\n",
       "      <td>1.241598</td>\n",
       "      <td>0.509590</td>\n",
       "      <td>0.470277</td>\n",
       "      <td>2.221464</td>\n",
       "      <td>33.082025</td>\n",
       "      <td>16.541013</td>\n",
       "    </tr>\n",
       "    <tr>\n",
       "      <th>3957</th>\n",
       "      <td>373</td>\n",
       "      <td>10</td>\n",
       "      <td>0.080808</td>\n",
       "      <td>-0.190032</td>\n",
       "      <td>1.221870</td>\n",
       "      <td>0.244381</td>\n",
       "      <td>0.045314</td>\n",
       "      <td>1.511566</td>\n",
       "      <td>6.700157</td>\n",
       "      <td>3.350078</td>\n",
       "    </tr>\n",
       "    <tr>\n",
       "      <th>3958</th>\n",
       "      <td>313</td>\n",
       "      <td>4</td>\n",
       "      <td>0.085859</td>\n",
       "      <td>0.216715</td>\n",
       "      <td>1.249876</td>\n",
       "      <td>0.411425</td>\n",
       "      <td>0.110864</td>\n",
       "      <td>1.772165</td>\n",
       "      <td>7.118917</td>\n",
       "      <td>3.559458</td>\n",
       "    </tr>\n",
       "    <tr>\n",
       "      <th>3959</th>\n",
       "      <td>353</td>\n",
       "      <td>8</td>\n",
       "      <td>0.333333</td>\n",
       "      <td>0.127282</td>\n",
       "      <td>1.232601</td>\n",
       "      <td>0.408149</td>\n",
       "      <td>0.246531</td>\n",
       "      <td>1.887282</td>\n",
       "      <td>27.638148</td>\n",
       "      <td>13.819074</td>\n",
       "    </tr>\n",
       "  </tbody>\n",
       "</table>\n",
       "<p>3960 rows × 10 columns</p>\n",
       "</div>"
      ],
      "text/plain": [
       "      Temperature  Pressure  Current Density  Bubble Coverage  \\\n",
       "0             373         8         0.383838        -0.308736   \n",
       "1             353         4         0.409091         0.140836   \n",
       "2             373        10         0.419192        -0.311398   \n",
       "3             323         6         0.015152         0.138477   \n",
       "4             313         4         0.237374         0.294024   \n",
       "...           ...       ...              ...              ...   \n",
       "3955          323         8         0.373737         0.361113   \n",
       "3956          323         4         0.398990         0.371775   \n",
       "3957          373        10         0.080808        -0.190032   \n",
       "3958          313         4         0.085859         0.216715   \n",
       "3959          353         8         0.333333         0.127282   \n",
       "\n",
       "      Reversible Voltage  Activation Overpotential  Ohmic Potential  \\\n",
       "0               1.216060                  0.349959         0.210651   \n",
       "1               1.215879                  0.423878         0.303825   \n",
       "2               1.221870                  0.356171         0.229950   \n",
       "3               1.250195                  0.258607         0.016361   \n",
       "4               1.249876                  0.489298         0.315468   \n",
       "...                  ...                       ...              ...   \n",
       "3955            1.256266                  0.503837         0.438406   \n",
       "3956            1.241598                  0.509590         0.470277   \n",
       "3957            1.221870                  0.244381         0.045314   \n",
       "3958            1.249876                  0.411425         0.110864   \n",
       "3959            1.232601                  0.408149         0.246531   \n",
       "\n",
       "      Cell Voltage  Hydrogen Evolution Rate  Oxygen Evolution Rate  \n",
       "0         1.776671                31.825746              15.912873  \n",
       "1         1.943582                33.919545              16.959772  \n",
       "2         1.807991                34.757064              17.378532  \n",
       "3         1.525162                 1.256279               0.628140  \n",
       "4         2.054642                19.681711               9.840856  \n",
       "...            ...                      ...                    ...  \n",
       "3955      2.198509                30.988226              15.494113  \n",
       "3956      2.221464                33.082025              16.541013  \n",
       "3957      1.511566                 6.700157               3.350078  \n",
       "3958      1.772165                 7.118917               3.559458  \n",
       "3959      1.887282                27.638148              13.819074  \n",
       "\n",
       "[3960 rows x 10 columns]"
      ]
     },
     "execution_count": 2,
     "metadata": {},
     "output_type": "execute_result"
    }
   ],
   "source": [
    "df = pd.read_csv(\"data.csv\")\n",
    "df"
   ]
  },
  {
   "cell_type": "markdown",
   "id": "8e14998a-4b54-4f90-b59b-98abd9da9e71",
   "metadata": {},
   "source": [
    "# Traditional Models"
   ]
  },
  {
   "cell_type": "markdown",
   "id": "0269d95e-e90f-48a0-9250-a72c06c53a36",
   "metadata": {},
   "source": [
    "## Splitting Data into training and test dataset (80-20 split)"
   ]
  },
  {
   "cell_type": "code",
   "execution_count": 3,
   "id": "5c438152-b0e9-4eab-8568-1f90badb5014",
   "metadata": {},
   "outputs": [],
   "source": [
    "from sklearn.model_selection import train_test_split\n",
    "from sklearn.metrics import r2_score, mean_absolute_error\n",
    "\n",
    "X = df.drop(columns=[\"Hydrogen Evolution Rate\"])\n",
    "y = df[\"Hydrogen Evolution Rate\"]\n",
    "\n",
    "X_train, X_test, y_train, y_test = train_test_split(X, y, test_size=0.2, random_state=42)"
   ]
  },
  {
   "cell_type": "markdown",
   "id": "88ae3ed2-d493-4908-9279-a7d2a0d03706",
   "metadata": {},
   "source": [
    "## Ridge Regression"
   ]
  },
  {
   "cell_type": "code",
   "execution_count": 4,
   "id": "02bff38d-52d8-4238-a857-de728cb77b33",
   "metadata": {},
   "outputs": [
    {
     "name": "stdout",
     "output_type": "stream",
     "text": [
      "Ridge Regression R² Score: 0.78025\n",
      "Ridge Regression MAE: 4.865426223992705\n"
     ]
    }
   ],
   "source": [
    "from sklearn.linear_model import Ridge\n",
    "\n",
    "ridge_model = Ridge(alpha=100000.0)  \n",
    "ridge_model.fit(X_train, y_train)\n",
    "ridge_pred = ridge_model.predict(X_test)\n",
    "ridge_r2 = r2_score(y_test, ridge_pred)\n",
    "print(f\"Ridge Regression R² Score: {ridge_r2:.5f}\")\n",
    "ridge_mae = mean_absolute_error(y_test, ridge_pred)\n",
    "print(\"Ridge Regression MAE:\", ridge_mae)"
   ]
  },
  {
   "cell_type": "markdown",
   "id": "8bfa91b3-82ef-467e-be6b-acc761b8f1ba",
   "metadata": {},
   "source": [
    "## Lasso Regression"
   ]
  },
  {
   "cell_type": "code",
   "execution_count": 5,
   "id": "a5cf4847-f1d9-4cae-8bd6-0342bb377cb5",
   "metadata": {},
   "outputs": [
    {
     "name": "stdout",
     "output_type": "stream",
     "text": [
      "Lasso Regression R² Score: 0.98040\n",
      "Lasso Regression MAE: 1.4526770142956404\n"
     ]
    }
   ],
   "source": [
    "from sklearn.linear_model import Lasso\n",
    "\n",
    "lasso_model = Lasso(alpha=10)  \n",
    "lasso_model.fit(X_train, y_train)\n",
    "lasso_pred = lasso_model.predict(X_test)\n",
    "lasso_r2 = r2_score(y_test, lasso_pred)\n",
    "print(f\"Lasso Regression R² Score: {lasso_r2:.5f}\")\n",
    "lasso_mae = mean_absolute_error(y_test, lasso_pred)\n",
    "print(\"Lasso Regression MAE:\", lasso_mae)"
   ]
  },
  {
   "cell_type": "markdown",
   "id": "c8f58b7c-2d4a-470e-880a-423ab3421236",
   "metadata": {},
   "source": [
    "## Elastic Net"
   ]
  },
  {
   "cell_type": "code",
   "execution_count": 6,
   "id": "ea2fec21-135f-4b4f-b84c-b0bd5043a3f7",
   "metadata": {},
   "outputs": [
    {
     "name": "stdout",
     "output_type": "stream",
     "text": [
      "ElasticNet R²: 0.8923238454262037\n",
      "Elastic Net MAE: 3.404763473775208\n"
     ]
    }
   ],
   "source": [
    "from sklearn.linear_model import ElasticNet\n",
    "\n",
    "elastic = ElasticNet(alpha=20.0, l1_ratio=0.5, max_iter=10000)  # l1_ratio controls mix of L1 and L2\n",
    "elastic.fit(X_train, y_train)\n",
    "elastic_pred = elastic.predict(X_test)\n",
    "elastic_r2 = r2_score(y_test, elastic_pred)\n",
    "print(\"ElasticNet R²:\", elastic_r2)\n",
    "elastic_mae = mean_absolute_error(y_test, elastic_pred)\n",
    "print(\"Elastic Net MAE:\", elastic_mae)"
   ]
  },
  {
   "cell_type": "markdown",
   "id": "b1b5400b-0550-454a-9efe-f087d82cf154",
   "metadata": {},
   "source": [
    "## Decision Tree Regressor"
   ]
  },
  {
   "cell_type": "code",
   "execution_count": 7,
   "id": "f0677354-b37e-4ef1-919d-2957cd1a78a7",
   "metadata": {},
   "outputs": [
    {
     "name": "stdout",
     "output_type": "stream",
     "text": [
      "Decision Tree R²: 0.9962381123659747\n",
      "Decision Tree MAE: 0.6418215516412707\n"
     ]
    }
   ],
   "source": [
    "from sklearn.tree import DecisionTreeRegressor\n",
    "\n",
    "tree = DecisionTreeRegressor(\n",
    "    max_depth=4,               \n",
    "    min_samples_split=10,\n",
    "    min_samples_leaf=5,\n",
    "    random_state=42\n",
    ")\n",
    "tree.fit(X_train, y_train)\n",
    "tree_pred = tree.predict(X_test)\n",
    "tree_r2 = r2_score(y_test, tree_pred)\n",
    "print(\"Decision Tree R²:\", tree_r2)\n",
    "tree_mae = mean_absolute_error(y_test, tree_pred)\n",
    "print(\"Decision Tree MAE:\", tree_mae)"
   ]
  },
  {
   "cell_type": "markdown",
   "id": "3e5c02bc-4b3e-4099-87f9-7c5ba768890a",
   "metadata": {},
   "source": [
    "## Random Forest Regressor"
   ]
  },
  {
   "cell_type": "code",
   "execution_count": 8,
   "id": "5f5f62c0-13c5-4e29-93a6-2b9b5a9c4a1a",
   "metadata": {},
   "outputs": [
    {
     "name": "stdout",
     "output_type": "stream",
     "text": [
      "Random Forest R²: 0.9883338743459615\n",
      "Random Forest MAE: 1.1241140354891141\n"
     ]
    }
   ],
   "source": [
    "from sklearn.ensemble import RandomForestRegressor\n",
    "\n",
    "rf = RandomForestRegressor(\n",
    "    n_estimators=30,           \n",
    "    max_depth=3,              \n",
    "    min_samples_split=10,\n",
    "    min_samples_leaf=8,\n",
    "    random_state=42\n",
    ")\n",
    "rf.fit(X_train, y_train)\n",
    "rf_pred = rf.predict(X_test)\n",
    "rf_r2 = r2_score(y_test, rf_pred)\n",
    "print(\"Random Forest R²:\", rf_r2)\n",
    "rf_mae = mean_absolute_error(y_test, rf_pred)\n",
    "print(\"Random Forest MAE:\", rf_mae)"
   ]
  },
  {
   "cell_type": "markdown",
   "id": "695ed22c-0720-4849-8a14-1ba9b7cace35",
   "metadata": {},
   "source": [
    "## Gradient Boosting Regressor"
   ]
  },
  {
   "cell_type": "code",
   "execution_count": 9,
   "id": "b397e1b2-aae7-4502-8012-22a1dde71ff7",
   "metadata": {},
   "outputs": [
    {
     "name": "stdout",
     "output_type": "stream",
     "text": [
      "Gradient Boosting R²: 0.9933438738686066\n",
      "Gradient Boosting MAE: 0.8203445579312411\n"
     ]
    }
   ],
   "source": [
    "from sklearn.ensemble import GradientBoostingRegressor\n",
    "\n",
    "gbr = GradientBoostingRegressor(\n",
    "    n_estimators=50,\n",
    "    learning_rate=0.05,       \n",
    "    max_depth=3,\n",
    "    min_samples_split=10,\n",
    "    min_samples_leaf=5,\n",
    "    random_state=42\n",
    ")\n",
    "gbr.fit(X_train, y_train)\n",
    "gbr_pred = gbr.predict(X_test)\n",
    "gbr_r2 =  r2_score(y_test, gbr_pred)\n",
    "print(\"Gradient Boosting R²:\",gbr_r2)\n",
    "gbr_mae = mean_absolute_error(y_test, gbr_pred)\n",
    "print(\"Gradient Boosting MAE:\", gbr_mae)"
   ]
  },
  {
   "cell_type": "markdown",
   "id": "24a4c044-c23c-4599-8552-dd43f83f2fb9",
   "metadata": {},
   "source": [
    "## XGBoost Regressor"
   ]
  },
  {
   "cell_type": "code",
   "execution_count": 10,
   "id": "289e1c6a-8353-4f19-bfd8-9410aed93dba",
   "metadata": {},
   "outputs": [
    {
     "name": "stdout",
     "output_type": "stream",
     "text": [
      "XGBoost R²: 0.9424729992669875\n",
      "XGBoost MAE: 2.4170089886366206\n"
     ]
    }
   ],
   "source": [
    "from xgboost import XGBRegressor\n",
    "\n",
    "xgb = XGBRegressor(\n",
    "    n_estimators=30,\n",
    "    learning_rate=0.05,\n",
    "    max_depth=3,\n",
    "    reg_alpha=10,             \n",
    "    reg_lambda=10,            \n",
    "    subsample=0.7,             \n",
    "    colsample_bytree=0.7,     \n",
    "    random_state=42\n",
    ")\n",
    "xgb.fit(X_train, y_train)\n",
    "xgb_pred = xgb.predict(X_test)\n",
    "xgb_r2 = r2_score(y_test, xgb_pred)\n",
    "print(\"XGBoost R²:\", xgb_r2)\n",
    "xgb_mae = mean_absolute_error(y_test, xgb_pred)\n",
    "print(\"XGBoost MAE:\", xgb_mae)"
   ]
  },
  {
   "cell_type": "markdown",
   "id": "2ea1f786-bc39-45a4-8595-9b022169a872",
   "metadata": {},
   "source": [
    "## KNN"
   ]
  },
  {
   "cell_type": "code",
   "execution_count": 11,
   "id": "54ef28ee-99e2-4ce4-bd0b-02a32d62df9c",
   "metadata": {},
   "outputs": [
    {
     "name": "stdout",
     "output_type": "stream",
     "text": [
      "KNN R²: 0.9913356069625482\n",
      "KNN MAE: 0.5832763711598702\n"
     ]
    }
   ],
   "source": [
    "from sklearn.neighbors import KNeighborsRegressor\n",
    "\n",
    "knn = KNeighborsRegressor(\n",
    "    n_neighbors=40,        \n",
    "    weights='uniform'\n",
    ")\n",
    "knn.fit(X_train, y_train)\n",
    "knn_pred = knn.predict(X_test)\n",
    "knn_r2 = r2_score(y_test, knn_pred)\n",
    "print(\"KNN R²:\", knn_r2)\n",
    "knn_mae = mean_absolute_error(y_test, knn_pred)\n",
    "print(\"KNN MAE:\", knn_mae)"
   ]
  },
  {
   "cell_type": "markdown",
   "id": "96d70c33-049e-418a-97df-35dc52848a94",
   "metadata": {},
   "source": [
    "## SVM"
   ]
  },
  {
   "cell_type": "code",
   "execution_count": 12,
   "id": "3dc0dbf1-e7b0-493d-bcbb-61467a414553",
   "metadata": {},
   "outputs": [
    {
     "name": "stdout",
     "output_type": "stream",
     "text": [
      "SVR R²: 0.03124546677136597\n",
      "SVM MAE: 10.213674979093728\n"
     ]
    }
   ],
   "source": [
    "from sklearn.svm import SVR\n",
    "\n",
    "svm = SVR(\n",
    "        kernel='rbf',       \n",
    "        C=0.1,              \n",
    "        epsilon=1.0         \n",
    "    )\n",
    "\n",
    "svm.fit(X_train, y_train)\n",
    "svm_pred = svm.predict(X_test)\n",
    "svm_r2 = r2_score(y_test, svm_pred)\n",
    "print(\"SVR R²:\", svm_r2)\n",
    "svm_mae = mean_absolute_error(y_test, svm_pred)\n",
    "print(\"SVM MAE:\", svm_mae)"
   ]
  },
  {
   "cell_type": "markdown",
   "id": "be8332b1-2937-4e95-967b-224741cf5e9c",
   "metadata": {},
   "source": [
    "# Deep Learning Algorithms"
   ]
  },
  {
   "cell_type": "markdown",
   "id": "7c6bb6a4-9469-4984-be62-8d91d5473982",
   "metadata": {},
   "source": [
    "## MLP"
   ]
  },
  {
   "cell_type": "code",
   "execution_count": 13,
   "id": "ac5c187b-e4dd-4118-9b14-2dab1606adaf",
   "metadata": {},
   "outputs": [
    {
     "name": "stdout",
     "output_type": "stream",
     "text": [
      "Epoch [10/200], Loss: 198.3057\n",
      "Epoch [20/200], Loss: 147.2807\n",
      "Epoch [30/200], Loss: 132.6079\n",
      "Epoch [40/200], Loss: 128.8380\n",
      "Epoch [50/200], Loss: 125.8147\n",
      "Epoch [60/200], Loss: 122.2999\n",
      "Epoch [70/200], Loss: 118.3284\n",
      "Epoch [80/200], Loss: 113.8769\n",
      "Epoch [90/200], Loss: 108.8711\n",
      "Epoch [100/200], Loss: 103.2456\n",
      "Epoch [110/200], Loss: 96.9654\n",
      "Epoch [120/200], Loss: 90.0008\n",
      "Epoch [130/200], Loss: 82.3280\n",
      "Epoch [140/200], Loss: 73.9728\n",
      "Epoch [150/200], Loss: 65.0128\n",
      "Epoch [160/200], Loss: 55.5945\n",
      "Epoch [170/200], Loss: 45.9612\n",
      "Epoch [180/200], Loss: 36.4469\n",
      "Epoch [190/200], Loss: 27.4621\n",
      "Epoch [200/200], Loss: 19.4542\n"
     ]
    }
   ],
   "source": [
    "import torch\n",
    "import torch.nn as nn\n",
    "import torch.optim as optim\n",
    "\n",
    "device = torch.device('cuda' if torch.cuda.is_available() else 'cpu')\n",
    "\n",
    "class MLPRegressor(nn.Module):\n",
    "    def __init__(self, input_dim):\n",
    "        super(MLPRegressor, self).__init__()\n",
    "        self.layer1 = nn.Linear(input_dim, 64)\n",
    "        self.layer2 = nn.Linear(64, 64)\n",
    "        self.output = nn.Linear(64, 1)\n",
    "        \n",
    "    def forward(self, x):\n",
    "        x = torch.relu(self.layer1(x))\n",
    "        x = torch.relu(self.layer2(x))\n",
    "        return self.output(x)\n",
    "\n",
    "# Model initialization\n",
    "model = MLPRegressor(input_dim=X_train.shape[1]).to(device)\n",
    "\n",
    "# Loss function and optimizer\n",
    "criterion = nn.MSELoss()\n",
    "optimizer = optim.Adam(model.parameters(), lr=0.001)\n",
    "\n",
    "# Data (convert to PyTorch tensors and move to device)\n",
    "X_train_tensor = torch.tensor(X_train.values, dtype=torch.float32).to(device)\n",
    "y_train_tensor = torch.tensor(y_train.values, dtype=torch.float32).to(device)\n",
    "\n",
    "# Training loop\n",
    "for epoch in range(200):\n",
    "    model.train()\n",
    "    optimizer.zero_grad()\n",
    "    \n",
    "    # Forward pass\n",
    "    outputs = model(X_train_tensor)\n",
    "    loss = criterion(outputs.squeeze(), y_train_tensor)\n",
    "    \n",
    "    # Backward pass and optimization\n",
    "    loss.backward()\n",
    "    optimizer.step()\n",
    "    \n",
    "    if (epoch + 1) % 10 == 0:\n",
    "        print(f\"Epoch [{epoch+1}/200], Loss: {loss.item():.4f}\")"
   ]
  },
  {
   "cell_type": "code",
   "execution_count": 14,
   "id": "5ddbaf51-ac82-4683-a5a1-f74c0c3e1360",
   "metadata": {},
   "outputs": [
    {
     "name": "stdout",
     "output_type": "stream",
     "text": [
      "Training R² Score: 0.8690\n",
      "Testing R² Score: 0.8680\n",
      "Training MAE: 3.7464\n",
      "Testing MAE: 3.7768\n"
     ]
    }
   ],
   "source": [
    "model.eval()  \n",
    "with torch.no_grad():\n",
    "    y_train_pred = model(X_train_tensor).cpu().numpy()  \n",
    "    X_test_tensor = torch.tensor(X_test.values, dtype=torch.float32).to(device)  \n",
    "    y_test_pred = model(X_test_tensor).cpu().numpy() \n",
    "\n",
    "\n",
    "train_r2_mlp = r2_score(y_train.values, y_train_pred)\n",
    "test_r2_mlp = r2_score(y_test.values, y_test_pred)\n",
    "\n",
    "\n",
    "train_mae_mlp = mean_absolute_error(y_train.values, y_train_pred)\n",
    "test_mae_mlp = mean_absolute_error(y_test.values, y_test_pred)\n",
    "\n",
    "\n",
    "print(f\"Training R² Score: {train_r2_mlp:.4f}\")\n",
    "print(f\"Testing R² Score: {test_r2_mlp:.4f}\")\n",
    "print(f\"Training MAE: {train_mae_mlp:.4f}\")\n",
    "print(f\"Testing MAE: {test_mae_mlp:.4f}\")"
   ]
  },
  {
   "cell_type": "markdown",
   "id": "2812aa84-5069-4c7e-b0c3-705b6453926f",
   "metadata": {},
   "source": [
    "### Using Dropout"
   ]
  },
  {
   "cell_type": "code",
   "execution_count": 15,
   "id": "5e81e4ec-fbbf-4ed5-bf73-ad8f9d649a7c",
   "metadata": {},
   "outputs": [
    {
     "name": "stdout",
     "output_type": "stream",
     "text": [
      "Epoch [10/200], Loss: 174.1632\n",
      "Epoch [20/200], Loss: 164.6310\n",
      "Epoch [30/200], Loss: 165.5091\n",
      "Epoch [40/200], Loss: 157.2901\n",
      "Epoch [50/200], Loss: 152.6289\n",
      "Epoch [60/200], Loss: 150.7098\n",
      "Epoch [70/200], Loss: 148.6706\n",
      "Epoch [80/200], Loss: 146.8245\n",
      "Epoch [90/200], Loss: 139.3034\n",
      "Epoch [100/200], Loss: 138.7299\n",
      "Epoch [110/200], Loss: 131.4517\n",
      "Epoch [120/200], Loss: 125.4692\n",
      "Epoch [130/200], Loss: 114.7198\n",
      "Epoch [140/200], Loss: 101.7428\n",
      "Epoch [150/200], Loss: 87.9734\n",
      "Epoch [160/200], Loss: 66.7979\n",
      "Epoch [170/200], Loss: 53.0974\n",
      "Epoch [180/200], Loss: 41.0664\n",
      "Epoch [190/200], Loss: 33.8884\n",
      "Epoch [200/200], Loss: 32.0501\n"
     ]
    }
   ],
   "source": [
    "class MLPRegressor(nn.Module):\n",
    "    def __init__(self, input_dim):\n",
    "        super(MLPRegressor, self).__init__()\n",
    "        self.layer1 = nn.Linear(input_dim, 128)  \n",
    "        self.dropout1 = nn.Dropout(0.3)  \n",
    "        self.layer2 = nn.Linear(128, 64)\n",
    "        self.dropout2 = nn.Dropout(0.3)  \n",
    "        self.layer3 = nn.Linear(64, 32)\n",
    "        self.output = nn.Linear(32, 1)  \n",
    "        \n",
    "    def forward(self, x):\n",
    "        x = torch.relu(self.layer1(x))\n",
    "        x = self.dropout1(x)  \n",
    "        x = torch.relu(self.layer2(x))\n",
    "        x = self.dropout2(x) \n",
    "        x = torch.relu(self.layer3(x))\n",
    "        return self.output(x)\n",
    "\n",
    "# Model \n",
    "model = MLPRegressor(input_dim=X_train.shape[1]).to(device)\n",
    "\n",
    "# Loss function and optimizer\n",
    "criterion = nn.MSELoss()\n",
    "optimizer = optim.Adam(model.parameters(), lr=0.001)\n",
    "\n",
    "# Data \n",
    "X_train_tensor = torch.tensor(X_train.values, dtype=torch.float32).to(device)\n",
    "y_train_tensor = torch.tensor(y_train.values, dtype=torch.float32).to(device)\n",
    "\n",
    "# Training loop\n",
    "for epoch in range(200):\n",
    "    model.train()\n",
    "    optimizer.zero_grad()\n",
    "    \n",
    "    # Forward pass\n",
    "    outputs = model(X_train_tensor)\n",
    "    loss = criterion(outputs.squeeze(), y_train_tensor)\n",
    "    \n",
    "    # Backward pass and optimization\n",
    "    loss.backward()\n",
    "    optimizer.step()\n",
    "    \n",
    "    if (epoch + 1) % 10 == 0:\n",
    "        print(f\"Epoch [{epoch+1}/200], Loss: {loss.item():.4f}\")"
   ]
  },
  {
   "cell_type": "code",
   "execution_count": 16,
   "id": "d610e4ac-c2e2-4479-a7b6-f1a01bc8f012",
   "metadata": {},
   "outputs": [
    {
     "name": "stdout",
     "output_type": "stream",
     "text": [
      "Training R² Score: 0.9121\n",
      "Testing R² Score: 0.9117\n",
      "Training MAE: 3.3257\n",
      "Testing MAE: 3.3355\n"
     ]
    }
   ],
   "source": [
    "model.eval()  \n",
    "with torch.no_grad():\n",
    "    y_train_pred = model(X_train_tensor).cpu().numpy()  \n",
    "    X_test_tensor = torch.tensor(X_test.values, dtype=torch.float32).to(device)  \n",
    "    y_test_pred = model(X_test_tensor).cpu().numpy() \n",
    "\n",
    "\n",
    "train_r2_dropout = r2_score(y_train.values, y_train_pred)\n",
    "test_r2_dropout = r2_score(y_test.values, y_test_pred)\n",
    "\n",
    "\n",
    "train_mae_dropout = mean_absolute_error(y_train.values, y_train_pred)\n",
    "test_mae_dropout = mean_absolute_error(y_test.values, y_test_pred)\n",
    "\n",
    "\n",
    "print(f\"Training R² Score: {train_r2_dropout:.4f}\")\n",
    "print(f\"Testing R² Score: {test_r2_dropout:.4f}\")\n",
    "print(f\"Training MAE: {train_mae_dropout:.4f}\")\n",
    "print(f\"Testing MAE: {test_mae_dropout:.4f}\")"
   ]
  },
  {
   "cell_type": "markdown",
   "id": "e001b6db-21c0-412f-8539-d959d6fc1c2c",
   "metadata": {},
   "source": [
    "# Results"
   ]
  },
  {
   "cell_type": "code",
   "execution_count": 19,
   "id": "d7ad7109-adf8-4c7e-bde4-a4e01f1bfa7f",
   "metadata": {},
   "outputs": [
    {
     "data": {
      "image/png": "[encoded data removed]",
      "text/plain": [
       "<Figure size 1200x1000 with 1 Axes>"
      ]
     },
     "metadata": {},
     "output_type": "display_data"
    }
   ],
   "source": [
    "import matplotlib.pyplot as plt\n",
    "r2_scores = {\n",
    "    'Ridge':ridge_r2,\n",
    "    'Lasso':lasso_r2,\n",
    "    'Elastic Net':elastic_r2,\n",
    "    'Decision Tree':tree_r2,\n",
    "    'Random Forest':rf_r2,\n",
    "    'Gradient Boosting':gbr_r2,\n",
    "    'XGBoost':xgb_r2,\n",
    "    'KNN':knn_r2,\n",
    "    'SVM':svm_r2,\n",
    "    'MLP train-set':train_r2_mlp,\n",
    "    'MLP test-set':test_r2_mlp,\n",
    "    'MLP with Dropout train-set':train_r2_dropout,\n",
    "    'MLP with Dropout test-set':test_r2_dropout\n",
    "    \n",
    "}\n",
    "\n",
    "algorithms = list(r2_scores.keys())\n",
    "scores = list(r2_scores.values())\n",
    "\n",
    "plt.figure(figsize=(12, 10))\n",
    "bars = plt.bar(algorithms, scores, color='skyblue')\n",
    "plt.xlabel('Algorithms')\n",
    "plt.ylabel('R2 Score')\n",
    "plt.title('R2 Scores of Different Algorithms')\n",
    "\n",
    "plt.xticks(rotation=45, ha='right')\n",
    "\n",
    "for bar in bars:\n",
    "    yval = bar.get_height()\n",
    "    plt.text(bar.get_x() + bar.get_width() / 2, yval + 0.02, round(yval, 4), ha='center', va='bottom')\n",
    "\n",
    "plt.tight_layout()\n",
    "plt.savefig('r2_scores.jpg')\n",
    "plt.show()"
   ]
  },
  {
   "cell_type": "code",
   "execution_count": 20,
   "id": "5b0357e4-d87d-4566-9cb0-169d5a6a65d0",
   "metadata": {},
   "outputs": [
    {
     "data": {
      "image/png": "[encoded data removed]",
      "text/plain": [
       "<Figure size 1200x1000 with 1 Axes>"
      ]
     },
     "metadata": {},
     "output_type": "display_data"
    }
   ],
   "source": [
    "import matplotlib.pyplot as plt\n",
    "r2_scores = {\n",
    "    'Ridge':ridge_mae,\n",
    "    'Lasso':lasso_mae,\n",
    "    'Elastic Net':elastic_mae,\n",
    "    'Decision Tree':tree_mae,\n",
    "    'Random Forest':rf_mae,\n",
    "    'Gradient Boosting':gbr_mae,\n",
    "    'XGBoost':xgb_mae,\n",
    "    'KNN':knn_mae,\n",
    "    'SVM':svm_mae,\n",
    "    'MLP train-set':train_mae_mlp,\n",
    "    'MLP test-set':test_mae_mlp,\n",
    "    'MLP with Dropout train-set':train_mae_dropout,\n",
    "    'MLP with Dropout test-set':test_mae_dropout\n",
    "    \n",
    "}\n",
    "\n",
    "algorithms = list(r2_scores.keys())\n",
    "scores = list(r2_scores.values())\n",
    "\n",
    "plt.figure(figsize=(12, 10))\n",
    "bars = plt.bar(algorithms, scores, color='skyblue')\n",
    "plt.xlabel('Algorithms')\n",
    "plt.ylabel('MAE')\n",
    "plt.title('Mean Absolute Values of Different Algorithms')\n",
    "\n",
    "plt.xticks(rotation=45, ha='right')\n",
    "\n",
    "for bar in bars:\n",
    "    yval = bar.get_height()\n",
    "    plt.text(bar.get_x() + bar.get_width() / 2, yval + 0.02, round(yval, 4), ha='center', va='bottom')\n",
    "\n",
    "plt.tight_layout()\n",
    "plt.savefig('mae.jpg')\n",
    "plt.show()"
   ]
  },
  {
   "cell_type": "code",
   "execution_count": null,
   "id": "b06c8c04-28a0-4bc0-9828-100671b983bc",
   "metadata": {},
   "outputs": [],
   "source": []
  }
 ],
 "metadata": {
  "kernelspec": {
   "display_name": "Python 3 (ipykernel)",
   "language": "python",
   "name": "python3"
  },
  "language_info": {
   "codemirror_mode": {
    "name": "ipython",
    "version": 3
   },
   "file_extension": ".py",
   "mimetype": "text/x-python",
   "name": "python",
   "nbconvert_exporter": "python",
   "pygments_lexer": "ipython3",
   "version": "3.12.7"
  }
 },
 "nbformat": 4,
 "nbformat_minor": 5
}
